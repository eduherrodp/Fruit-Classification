{
 "cells": [
  {
   "cell_type": "code",
   "execution_count": 1,
   "id": "7f539b8c-892c-4e8d-8e0b-e957e88a2d55",
   "metadata": {},
   "outputs": [],
   "source": [
    "# Librerías necesarias\n",
    "import cv2\n",
    "import os\n",
    "import pathlib\n",
    "import numpy as np\n",
    "import matplotlib.pyplot as plt\n",
    "from matplotlib import image"
   ]
  },
  {
   "cell_type": "code",
   "execution_count": 2,
   "id": "7c1ea7ac-71eb-4168-9ec6-143f2f2e7812",
   "metadata": {},
   "outputs": [],
   "source": [
    "path = 'fruit_dataset/training'\n",
    "training_set = os.listdir(path)"
   ]
  },
  {
   "cell_type": "code",
   "execution_count": 3,
   "id": "50aa4b71-1f87-4201-8b03-c534ac2dd07f",
   "metadata": {},
   "outputs": [],
   "source": [
    "labels = np.zeros((len(training_set)), dtype=int)"
   ]
  },
  {
   "cell_type": "code",
   "execution_count": null,
   "id": "e32da365-1f9f-4ff0-b7d4-5d37aebb7a77",
   "metadata": {},
   "outputs": [
    {
     "name": "stdout",
     "output_type": "stream",
     "text": [
      "classifying images... (1) Manzana (2) Platano (3) = Guayaba (4) Limón (5) Granada (6) Naranja\n",
      "fruit_1.jpg has ben classified as: (1)\n",
      "fruit_10.jpg has ben classified as: (2)\n",
      "fruit_1000.jpg has ben classified as: (3)\n",
      "fruit_1001.jpg has ben classified as: (4)\n",
      "fruit_1002.jpg has ben classified as: (-1)\n",
      "fruit_101.jpg has ben classified as: (-1)\n",
      "fruit_102.jpg has ben classified as: (-1)\n",
      "fruit_103.jpg has ben classified as: (5)\n",
      "fruit_104.jpg has ben classified as: (1)\n",
      "fruit_105.jpg has ben classified as: (6)\n",
      "fruit_107.jpg has ben classified as: (4)\n",
      "fruit_108.jpg has ben classified as: (6)\n",
      "fruit_109.jpg has ben classified as: (5)\n",
      "fruit_110.jpg has ben classified as: (4)\n",
      "fruit_111.jpg has ben classified as: (6)\n",
      "fruit_113.jpg has ben classified as: (4)\n",
      "fruit_114.jpg has ben classified as: (1)\n",
      "fruit_115.jpg has ben classified as: (3)\n",
      "fruit_116.jpg has ben classified as: (2)\n",
      "fruit_117.jpg has ben classified as: (5)\n",
      "fruit_118.jpg has ben classified as: (4)\n",
      "fruit_119.jpg has ben classified as: (6)\n",
      "fruit_12.jpg has ben classified as: (2)\n",
      "fruit_120.jpg has ben classified as: (2)\n",
      "fruit_121.jpg has ben classified as: (2)\n",
      "fruit_123.jpg has ben classified as: (4)\n",
      "fruit_124.jpg has ben classified as: (5)\n",
      "fruit_125.jpg has ben classified as: (1)\n",
      "fruit_126.jpg has ben classified as: (3)\n",
      "fruit_127.jpg has ben classified as: (2)\n",
      "fruit_128.jpg has ben classified as: (4)\n",
      "fruit_129.jpg has ben classified as: (5)\n",
      "fruit_13.jpg has ben classified as: (6)\n"
     ]
    }
   ],
   "source": [
    "os.chdir(path)\n",
    "print('classifying images... (1) Manzana (2) Platano (3) = Guayaba (4) Limón (5) Granada (6) Naranja')\n",
    "for i in range(len(training_set)):\n",
    "    img = cv2.imread(training_set[i])\n",
    "    title_window = \"imagen \"+str(i)+'/'+str(len(training_set))\n",
    "    cv2.putText(img=img, text=title_window, org=(10, 10), fontFace=cv2.FONT_HERSHEY_DUPLEX, fontScale=.4, color=(0, 255,0), thickness=1)\n",
    "    cv2.imshow('labeler', img)\n",
    "    cv2.moveWindow('labeler', 40,30)\n",
    "\n",
    "    k = cv2.waitKey(0)\n",
    "\n",
    "    if k == 49: \n",
    "        labels[i]=1\n",
    "    elif k == 50:\n",
    "        labels[i]=2\n",
    "    elif k == 51:\n",
    "        labels[i]=3\n",
    "    elif k == 52:\n",
    "        labels[i]=4\n",
    "    elif k == 53:\n",
    "        labels[i]=5\n",
    "    elif k == 54:\n",
    "        labels[i]=6\n",
    "    else:\n",
    "        # Detectar incorrectos en el txt\n",
    "        labels[i]=-1\n",
    "    print(training_set[i] +' has ben classified as: ('+ str(labels[i])+')')"
   ]
  },
  {
   "cell_type": "code",
   "execution_count": null,
   "id": "c5f7f8fa-c7f4-4241-badd-ce555052cd21",
   "metadata": {},
   "outputs": [],
   "source": [
    "labels = np.zeros((25,), dtype=int)\n",
    "# print(labels)\n",
    "for i in range(len(list_original)):\n",
    "    # Creación de la lista de sub directorios para mostrar las subimagenes\n",
    "    os.chdir(parent_original)\n",
    "    parent_sub = \"A:/FoFi-Detection/dataset/sub_fire_images/\"+list_original[i][:-4]+\"_dir\"\n",
    "    # print(parent_sub)\n",
    "    img_original = cv2.imread(list_original[i])\n",
    "    title_window_original = \"original \"+str(i)+'/'+str(len(list_original))\n",
    "    cv2.putText(img=img_original, text=title_window_original, org=(10, 10), fontFace=cv2.FONT_HERSHEY_DUPLEX, fontScale=.4, color=(0, 255, 0),thickness=1)\n",
    "    cv2.imshow(\"original\", img_original)\n",
    "    cv2.moveWindow(\"original\",40,30)\n",
    "    # cv2.waitKey(0)\n",
    "    # Cambiamos al subfolder\n",
    "    os.chdir(parent_sub)\n",
    "    list_sub = os.listdir(parent_sub)\n",
    "    # print(list_sub)\n",
    "    \n",
    "    # subimagenes\n",
    "    # arreglo de etiquetados (1 para cad asubfolder, después se concatenará)\n",
    "    \n",
    "    for j in range(len(list_sub)):\n",
    "        img_sub = cv2.imread(list_sub[j])\n",
    "        cv2.imshow(\"sub\", img_sub)\n",
    "        cv2.moveWindow(\"sub\",300,30)\n",
    "        k = cv2.waitKey(0)\n",
    "        \"\"\"\n",
    "            1 = Fuego\n",
    "            2 = No fuego\n",
    "            3 = Humo\n",
    "        \"\"\"\n",
    "        if k == 49: \n",
    "            labels[j]=1\n",
    "        elif k == 50:\n",
    "            labels[j]=2\n",
    "        elif k == 51:\n",
    "            labels[j]=3\n",
    "        else:\n",
    "            # Detectar incorrectos en el txt\n",
    "            labels[j]=-1\n",
    "    \n",
    "    # Write array to a txt file\n",
    "    txt_name = list_original[i][:-4] + '_labels.txt'\n",
    "    print(labels)\n",
    "    print('saving data on: '+ parent_sub + ' as ' + txt_name )\n",
    "    np.savetxt(txt_name,labels,fmt='%d')\n",
    "    "
   ]
  }
 ],
 "metadata": {
  "kernelspec": {
   "display_name": "Python 3 (ipykernel)",
   "language": "python",
   "name": "python3"
  },
  "language_info": {
   "codemirror_mode": {
    "name": "ipython",
    "version": 3
   },
   "file_extension": ".py",
   "mimetype": "text/x-python",
   "name": "python",
   "nbconvert_exporter": "python",
   "pygments_lexer": "ipython3",
   "version": "3.9.7"
  }
 },
 "nbformat": 4,
 "nbformat_minor": 5
}
