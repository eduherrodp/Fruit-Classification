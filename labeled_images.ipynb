{
 "cells": [
  {
   "cell_type": "code",
   "execution_count": 1,
   "id": "7f539b8c-892c-4e8d-8e0b-e957e88a2d55",
   "metadata": {},
   "outputs": [],
   "source": [
    "# Librerías necesarias\n",
    "import cv2\n",
    "import os\n",
    "import pathlib\n",
    "import numpy as np\n",
    "import matplotlib.pyplot as plt\n",
    "from matplotlib import image"
   ]
  },
  {
   "cell_type": "code",
   "execution_count": 2,
   "id": "7c1ea7ac-71eb-4168-9ec6-143f2f2e7812",
   "metadata": {},
   "outputs": [],
   "source": [
    "path = 'fruit_dataset/training'\n",
    "training_set = os.listdir(path)"
   ]
  },
  {
   "cell_type": "code",
   "execution_count": 3,
   "id": "50aa4b71-1f87-4201-8b03-c534ac2dd07f",
   "metadata": {},
   "outputs": [],
   "source": [
    "labels = np.zeros((len(training_set)), dtype=int)"
   ]
  },
  {
   "cell_type": "code",
   "execution_count": 4,
   "id": "e32da365-1f9f-4ff0-b7d4-5d37aebb7a77",
   "metadata": {},
   "outputs": [
    {
     "name": "stdout",
     "output_type": "stream",
     "text": [
      "classifying images... (1) Manzana (2) Platano (3) = Guayaba (4) Limón (5) Granada (6) Naranja\n",
      "fruit_1.jpg has ben classified as: (1)\n",
      "fruit_10.jpg has ben classified as: (2)\n",
      "fruit_1000.jpg has ben classified as: (3)\n",
      "fruit_1001.jpg has ben classified as: (4)\n",
      "fruit_1002.jpg has ben classified as: (5)\n",
      "fruit_101.jpg has ben classified as: (6)\n",
      "[1 2 3 4 5 6 0 0 0 0 0 0 0 0 0 0 0 0 0 0 0 0 0 0 0 0 0 0 0 0 0 0 0 0 0 0 0\n",
      " 0 0 0 0 0 0 0 0 0 0 0 0 0 0 0 0 0 0 0 0 0 0 0 0 0 0 0 0 0 0 0 0 0 0 0 0 0\n",
      " 0 0 0 0 0 0 0 0 0 0 0 0 0 0 0 0 0 0 0 0 0 0 0 0 0 0 0 0 0 0 0 0 0 0 0 0 0\n",
      " 0 0 0 0 0 0 0 0 0 0 0 0 0 0 0 0 0 0 0 0 0 0 0 0 0 0 0 0 0 0 0 0 0 0 0 0 0\n",
      " 0 0 0 0 0 0 0 0 0 0 0 0 0 0 0 0 0 0 0 0 0 0 0 0 0 0 0 0 0 0 0 0 0 0 0 0 0\n",
      " 0 0 0 0 0 0 0 0 0 0 0 0 0 0 0 0 0 0 0 0 0 0 0 0 0 0 0 0 0 0 0 0 0 0 0 0 0\n",
      " 0 0 0 0 0 0 0 0 0 0 0 0 0 0 0 0 0 0 0 0 0 0 0 0 0 0 0 0 0 0 0 0 0 0 0 0 0\n",
      " 0 0 0 0 0 0 0 0 0 0 0 0 0 0 0 0 0 0 0 0 0 0 0 0 0 0 0 0 0 0 0 0 0 0 0 0 0\n",
      " 0 0 0 0 0 0 0 0 0 0 0 0 0 0 0 0 0 0 0 0 0 0 0 0 0 0 0 0 0 0 0 0 0 0 0 0 0\n",
      " 0 0 0 0 0 0 0 0 0 0 0 0 0 0 0 0 0 0 0 0 0 0 0 0 0 0 0 0 0 0 0 0 0 0 0 0 0\n",
      " 0 0 0 0 0 0 0 0 0 0 0 0 0 0 0 0 0 0 0 0 0 0 0 0 0 0 0 0 0 0 0 0 0 0 0 0 0\n",
      " 0 0 0 0 0 0 0 0 0 0 0 0 0 0 0 0 0 0 0 0 0 0 0 0 0 0 0 0 0 0 0 0 0 0 0 0 0\n",
      " 0 0 0 0 0 0 0 0 0 0 0 0 0 0 0 0 0 0 0 0 0 0 0 0 0 0 0 0 0 0 0 0 0 0 0 0 0\n",
      " 0 0 0 0 0 0 0 0 0 0 0 0 0 0 0 0 0 0 0 0 0 0 0 0 0 0 0 0 0 0 0 0 0 0 0 0 0\n",
      " 0 0 0 0 0 0 0 0 0 0 0 0 0 0 0 0 0 0 0 0 0 0 0 0 0 0 0 0 0 0 0 0 0 0 0 0 0\n",
      " 0 0 0 0 0 0 0 0 0 0 0 0 0 0 0 0 0 0 0 0 0 0 0 0 0 0 0 0 0 0 0 0 0 0 0 0 0\n",
      " 0 0 0 0 0 0 0 0 0 0 0 0 0 0 0 0 0 0 0 0 0 0 0 0 0 0 0 0 0 0 0 0 0 0 0 0 0\n",
      " 0 0 0 0 0 0 0 0 0 0 0 0 0 0 0 0 0 0 0 0 0 0 0 0 0 0 0 0 0 0 0 0 0 0 0 0 0\n",
      " 0 0 0 0 0 0 0 0 0 0 0 0 0 0 0 0 0 0 0 0 0 0 0 0 0 0 0 0 0 0 0 0 0 0 0 0 0\n",
      " 0 0 0 0 0 0 0 0 0 0 0 0 0 0 0 0 0 0 0 0 0 0 0 0 0 0 0 0 0 0 0 0 0 0 0 0 0\n",
      " 0 0 0 0 0 0 0 0 0 0 0 0 0 0 0 0 0 0 0 0 0 0 0 0 0 0 0 0 0 0 0 0 0 0 0 0 0\n",
      " 0 0 0 0 0 0 0 0 0 0 0 0 0 0 0 0 0 0 0 0 0 0 0]\n",
      "saving data on: fruit_dataset/training as labels.txt\n"
     ]
    }
   ],
   "source": [
    "os.chdir(path)\n",
    "print('classifying images... (1) Manzana (2) Platano (3) = Guayaba (4) Limón (5) Granada (6) Naranja')\n",
    "for i in range(len(training_set)):\n",
    "    img = cv2.imread(training_set[i])\n",
    "    title_window = \"imagen \"+str(i)+'/'+str(len(training_set))\n",
    "    cv2.putText(img=img, text=title_window, org=(10, 10), fontFace=cv2.FONT_HERSHEY_DUPLEX, fontScale=.4, color=(0, 255,0), thickness=1)\n",
    "    cv2.imshow('labeler', img)\n",
    "    cv2.moveWindow('labeler', 40,30)\n",
    "\n",
    "    k = cv2.waitKey(0)\n",
    "\n",
    "    if k == 49: \n",
    "        labels[i]=1\n",
    "    elif k == 50:\n",
    "        labels[i]=2\n",
    "    elif k == 51:\n",
    "        labels[i]=3\n",
    "    elif k == 52:\n",
    "        labels[i]=4\n",
    "    elif k == 53:\n",
    "        labels[i]=5\n",
    "    elif k == 54:\n",
    "        labels[i]=6\n",
    "    else:\n",
    "        # Detectar incorrectos en el txt\n",
    "        labels[i]=-1\n",
    "    print(training_set[i] +' has ben classified as: ('+ str(labels[i])+')')\n",
    "    \n",
    "print(labels)\n",
    "txt_name = 'labels.txt'\n",
    "print('saving data on: '+ path + ' as ' + txt_name )\n",
    "np.savetxt(txt_name,labels,fmt='%d')"
   ]
  },
  {
   "cell_type": "code",
   "execution_count": null,
   "id": "f0b1db12-207b-4b5b-9558-0cda6053aece",
   "metadata": {},
   "outputs": [],
   "source": []
  }
 ],
 "metadata": {
  "kernelspec": {
   "display_name": "Python 3 (ipykernel)",
   "language": "python",
   "name": "python3"
  },
  "language_info": {
   "codemirror_mode": {
    "name": "ipython",
    "version": 3
   },
   "file_extension": ".py",
   "mimetype": "text/x-python",
   "name": "python",
   "nbconvert_exporter": "python",
   "pygments_lexer": "ipython3",
   "version": "3.9.7"
  }
 },
 "nbformat": 4,
 "nbformat_minor": 5
}
