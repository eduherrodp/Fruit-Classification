{
 "cells": [
  {
   "cell_type": "markdown",
   "id": "8a0f8aac-ec2f-4b7c-b747-30f9ad1ddc66",
   "metadata": {},
   "source": [
    "Definición del conjunto de entrenamiento, validación y prueba"
   ]
  },
  {
   "cell_type": "code",
   "execution_count": 1,
   "id": "7e76d90f-8c59-4a7a-a9aa-9f16fd4c74ec",
   "metadata": {},
   "outputs": [],
   "source": [
    "import os\n",
    "import random\n",
    "import shutil"
   ]
  },
  {
   "cell_type": "code",
   "execution_count": 2,
   "id": "7a4ff426-7105-47ca-baa8-b38c5b7b5164",
   "metadata": {},
   "outputs": [
    {
     "data": {
      "text/plain": [
       "800"
      ]
     },
     "execution_count": 2,
     "metadata": {},
     "output_type": "execute_result"
    }
   ],
   "source": [
    "path = 'fruit_dataset'\n",
    "\n",
    "list = os.listdir(path)\n",
    "training_set_index = random.sample(list,800)\n",
    "len(training_set_index)"
   ]
  },
  {
   "cell_type": "code",
   "execution_count": 3,
   "id": "2b69f881-c6ad-4dd3-9a09-7982e72eac32",
   "metadata": {},
   "outputs": [],
   "source": [
    "os.chdir(path)\n",
    "os.mkdir('training')"
   ]
  },
  {
   "cell_type": "code",
   "execution_count": 4,
   "id": "36d148cf-10b5-49ba-8327-830072b0e0d0",
   "metadata": {},
   "outputs": [],
   "source": [
    "for i in range(len(training_set_index)):\n",
    "    shutil.move(training_set_index[i], 'training')\n"
   ]
  },
  {
   "cell_type": "code",
   "execution_count": 5,
   "id": "4779c04d-1959-4116-8090-bb01a542842e",
   "metadata": {},
   "outputs": [],
   "source": [
    "test_set_index = os.listdir()\n",
    "test_set_index = test_set_index[:-1]"
   ]
  },
  {
   "cell_type": "code",
   "execution_count": 6,
   "id": "72fbf06f-9433-49ef-b6f0-7a8497affc89",
   "metadata": {},
   "outputs": [],
   "source": [
    "os.mkdir('test')"
   ]
  },
  {
   "cell_type": "code",
   "execution_count": 7,
   "id": "fe8b8dc5-2f43-4feb-9149-53a58e360ed4",
   "metadata": {},
   "outputs": [],
   "source": [
    "for i in range(len(test_set_index)):\n",
    "    shutil.move(test_set_index[i], 'test')\n"
   ]
  },
  {
   "cell_type": "code",
   "execution_count": null,
   "id": "5ca47489-fade-4ea9-af57-6c0e88bb0f4c",
   "metadata": {},
   "outputs": [],
   "source": []
  }
 ],
 "metadata": {
  "kernelspec": {
   "display_name": "Python 3 (ipykernel)",
   "language": "python",
   "name": "python3"
  },
  "language_info": {
   "codemirror_mode": {
    "name": "ipython",
    "version": 3
   },
   "file_extension": ".py",
   "mimetype": "text/x-python",
   "name": "python",
   "nbconvert_exporter": "python",
   "pygments_lexer": "ipython3",
   "version": "3.9.7"
  }
 },
 "nbformat": 4,
 "nbformat_minor": 5
}
