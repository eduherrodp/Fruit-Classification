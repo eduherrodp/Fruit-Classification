{
 "cells": [
  {
   "cell_type": "code",
   "execution_count": 1,
   "id": "ceb83d16-f763-4bb2-ba15-65def534c44f",
   "metadata": {},
   "outputs": [],
   "source": [
    "import os\n",
    "from os.path import isfile, join\n",
    "from os import listdir\n",
    "import numpy as np\n",
    "import random"
   ]
  },
  {
   "cell_type": "code",
   "execution_count": 2,
   "id": "a1fa4339-be45-4768-95ed-d8c1d8dcd2f0",
   "metadata": {},
   "outputs": [],
   "source": [
    "path = 'fruit_dataset/'\n",
    "files = [f for f in listdir(path) if isfile(join(path, f))]"
   ]
  },
  {
   "cell_type": "code",
   "execution_count": 3,
   "id": "5f509263-9f10-48f1-a63c-a914cf21c597",
   "metadata": {},
   "outputs": [],
   "source": [
    "# Arreglo\n",
    "\n",
    "numbers = np.array(np.arange(1, len(files)+1))\n",
    "random.shuffle(numbers)\n"
   ]
  },
  {
   "cell_type": "code",
   "execution_count": 4,
   "id": "377145a3-dd1f-406f-a94d-4863d87072f9",
   "metadata": {},
   "outputs": [],
   "source": [
    "new_name = 'fruit_'\n",
    "os.chdir(path)\n",
    "for file in range(len(files)):\n",
    "    os.rename(str(files[file]), new_name+str(numbers[file])+'.jpg')"
   ]
  }
 ],
 "metadata": {
  "kernelspec": {
   "display_name": "Python 3 (ipykernel)",
   "language": "python",
   "name": "python3"
  },
  "language_info": {
   "codemirror_mode": {
    "name": "ipython",
    "version": 3
   },
   "file_extension": ".py",
   "mimetype": "text/x-python",
   "name": "python",
   "nbconvert_exporter": "python",
   "pygments_lexer": "ipython3",
   "version": "3.9.7"
  }
 },
 "nbformat": 4,
 "nbformat_minor": 5
}
